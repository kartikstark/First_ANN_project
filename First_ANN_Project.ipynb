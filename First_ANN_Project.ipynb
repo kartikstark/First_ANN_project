{
 "cells": [
  {
   "cell_type": "code",
   "execution_count": 36,
   "metadata": {
    "id": "tU7cKlT_xYpw"
   },
   "outputs": [],
   "source": [
    "## pip install tensorflow-gpu"
   ]
  },
  {
   "cell_type": "code",
   "execution_count": 37,
   "metadata": {
    "colab": {
     "base_uri": "https://localhost:8080/"
    },
    "id": "m2Uognxoxq-u",
    "outputId": "af1666b4-683f-4c04-d764-74037fc0a309"
   },
   "outputs": [
    {
     "name": "stdout",
     "output_type": "stream",
     "text": [
      "2.8.2\n"
     ]
    }
   ],
   "source": [
    "import tensorflow as tf\n",
    "print(tf.__version__)"
   ]
  },
  {
   "cell_type": "code",
   "execution_count": 38,
   "metadata": {
    "id": "eJJwzvDJyFps"
   },
   "outputs": [],
   "source": [
    "import numpy as np\n",
    "import matplotlib.pyplot as plt\n",
    "import pandas as pd\n"
   ]
  },
  {
   "cell_type": "code",
   "execution_count": 39,
   "metadata": {
    "colab": {
     "base_uri": "https://localhost:8080/",
     "height": 206
    },
    "id": "jgFpHCtcyW44",
    "outputId": "745a1068-49e2-4ced-eee3-3cd1b68022ba"
   },
   "outputs": [
    {
     "data": {
      "text/html": [
       "\n",
       "  <div id=\"df-576dfd7e-ef66-48a8-a7f5-70348d778463\">\n",
       "    <div class=\"colab-df-container\">\n",
       "      <div>\n",
       "<style scoped>\n",
       "    .dataframe tbody tr th:only-of-type {\n",
       "        vertical-align: middle;\n",
       "    }\n",
       "\n",
       "    .dataframe tbody tr th {\n",
       "        vertical-align: top;\n",
       "    }\n",
       "\n",
       "    .dataframe thead th {\n",
       "        text-align: right;\n",
       "    }\n",
       "</style>\n",
       "<table border=\"1\" class=\"dataframe\">\n",
       "  <thead>\n",
       "    <tr style=\"text-align: right;\">\n",
       "      <th></th>\n",
       "      <th>RowNumber</th>\n",
       "      <th>CustomerId</th>\n",
       "      <th>Surname</th>\n",
       "      <th>CreditScore</th>\n",
       "      <th>Geography</th>\n",
       "      <th>Gender</th>\n",
       "      <th>Age</th>\n",
       "      <th>Tenure</th>\n",
       "      <th>Balance</th>\n",
       "      <th>NumOfProducts</th>\n",
       "      <th>HasCrCard</th>\n",
       "      <th>IsActiveMember</th>\n",
       "      <th>EstimatedSalary</th>\n",
       "      <th>Exited</th>\n",
       "    </tr>\n",
       "  </thead>\n",
       "  <tbody>\n",
       "    <tr>\n",
       "      <th>0</th>\n",
       "      <td>1</td>\n",
       "      <td>15634602</td>\n",
       "      <td>Hargrave</td>\n",
       "      <td>619</td>\n",
       "      <td>France</td>\n",
       "      <td>Female</td>\n",
       "      <td>42</td>\n",
       "      <td>2</td>\n",
       "      <td>0.00</td>\n",
       "      <td>1</td>\n",
       "      <td>1</td>\n",
       "      <td>1</td>\n",
       "      <td>101348.88</td>\n",
       "      <td>1</td>\n",
       "    </tr>\n",
       "    <tr>\n",
       "      <th>1</th>\n",
       "      <td>2</td>\n",
       "      <td>15647311</td>\n",
       "      <td>Hill</td>\n",
       "      <td>608</td>\n",
       "      <td>Spain</td>\n",
       "      <td>Female</td>\n",
       "      <td>41</td>\n",
       "      <td>1</td>\n",
       "      <td>83807.86</td>\n",
       "      <td>1</td>\n",
       "      <td>0</td>\n",
       "      <td>1</td>\n",
       "      <td>112542.58</td>\n",
       "      <td>0</td>\n",
       "    </tr>\n",
       "    <tr>\n",
       "      <th>2</th>\n",
       "      <td>3</td>\n",
       "      <td>15619304</td>\n",
       "      <td>Onio</td>\n",
       "      <td>502</td>\n",
       "      <td>France</td>\n",
       "      <td>Female</td>\n",
       "      <td>42</td>\n",
       "      <td>8</td>\n",
       "      <td>159660.80</td>\n",
       "      <td>3</td>\n",
       "      <td>1</td>\n",
       "      <td>0</td>\n",
       "      <td>113931.57</td>\n",
       "      <td>1</td>\n",
       "    </tr>\n",
       "    <tr>\n",
       "      <th>3</th>\n",
       "      <td>4</td>\n",
       "      <td>15701354</td>\n",
       "      <td>Boni</td>\n",
       "      <td>699</td>\n",
       "      <td>France</td>\n",
       "      <td>Female</td>\n",
       "      <td>39</td>\n",
       "      <td>1</td>\n",
       "      <td>0.00</td>\n",
       "      <td>2</td>\n",
       "      <td>0</td>\n",
       "      <td>0</td>\n",
       "      <td>93826.63</td>\n",
       "      <td>0</td>\n",
       "    </tr>\n",
       "    <tr>\n",
       "      <th>4</th>\n",
       "      <td>5</td>\n",
       "      <td>15737888</td>\n",
       "      <td>Mitchell</td>\n",
       "      <td>850</td>\n",
       "      <td>Spain</td>\n",
       "      <td>Female</td>\n",
       "      <td>43</td>\n",
       "      <td>2</td>\n",
       "      <td>125510.82</td>\n",
       "      <td>1</td>\n",
       "      <td>1</td>\n",
       "      <td>1</td>\n",
       "      <td>79084.10</td>\n",
       "      <td>0</td>\n",
       "    </tr>\n",
       "  </tbody>\n",
       "</table>\n",
       "</div>\n",
       "      <button class=\"colab-df-convert\" onclick=\"convertToInteractive('df-576dfd7e-ef66-48a8-a7f5-70348d778463')\"\n",
       "              title=\"Convert this dataframe to an interactive table.\"\n",
       "              style=\"display:none;\">\n",
       "        \n",
       "  <svg xmlns=\"http://www.w3.org/2000/svg\" height=\"24px\"viewBox=\"0 0 24 24\"\n",
       "       width=\"24px\">\n",
       "    <path d=\"M0 0h24v24H0V0z\" fill=\"none\"/>\n",
       "    <path d=\"M18.56 5.44l.94 2.06.94-2.06 2.06-.94-2.06-.94-.94-2.06-.94 2.06-2.06.94zm-11 1L8.5 8.5l.94-2.06 2.06-.94-2.06-.94L8.5 2.5l-.94 2.06-2.06.94zm10 10l.94 2.06.94-2.06 2.06-.94-2.06-.94-.94-2.06-.94 2.06-2.06.94z\"/><path d=\"M17.41 7.96l-1.37-1.37c-.4-.4-.92-.59-1.43-.59-.52 0-1.04.2-1.43.59L10.3 9.45l-7.72 7.72c-.78.78-.78 2.05 0 2.83L4 21.41c.39.39.9.59 1.41.59.51 0 1.02-.2 1.41-.59l7.78-7.78 2.81-2.81c.8-.78.8-2.07 0-2.86zM5.41 20L4 18.59l7.72-7.72 1.47 1.35L5.41 20z\"/>\n",
       "  </svg>\n",
       "      </button>\n",
       "      \n",
       "  <style>\n",
       "    .colab-df-container {\n",
       "      display:flex;\n",
       "      flex-wrap:wrap;\n",
       "      gap: 12px;\n",
       "    }\n",
       "\n",
       "    .colab-df-convert {\n",
       "      background-color: #E8F0FE;\n",
       "      border: none;\n",
       "      border-radius: 50%;\n",
       "      cursor: pointer;\n",
       "      display: none;\n",
       "      fill: #1967D2;\n",
       "      height: 32px;\n",
       "      padding: 0 0 0 0;\n",
       "      width: 32px;\n",
       "    }\n",
       "\n",
       "    .colab-df-convert:hover {\n",
       "      background-color: #E2EBFA;\n",
       "      box-shadow: 0px 1px 2px rgba(60, 64, 67, 0.3), 0px 1px 3px 1px rgba(60, 64, 67, 0.15);\n",
       "      fill: #174EA6;\n",
       "    }\n",
       "\n",
       "    [theme=dark] .colab-df-convert {\n",
       "      background-color: #3B4455;\n",
       "      fill: #D2E3FC;\n",
       "    }\n",
       "\n",
       "    [theme=dark] .colab-df-convert:hover {\n",
       "      background-color: #434B5C;\n",
       "      box-shadow: 0px 1px 3px 1px rgba(0, 0, 0, 0.15);\n",
       "      filter: drop-shadow(0px 1px 2px rgba(0, 0, 0, 0.3));\n",
       "      fill: #FFFFFF;\n",
       "    }\n",
       "  </style>\n",
       "\n",
       "      <script>\n",
       "        const buttonEl =\n",
       "          document.querySelector('#df-576dfd7e-ef66-48a8-a7f5-70348d778463 button.colab-df-convert');\n",
       "        buttonEl.style.display =\n",
       "          google.colab.kernel.accessAllowed ? 'block' : 'none';\n",
       "\n",
       "        async function convertToInteractive(key) {\n",
       "          const element = document.querySelector('#df-576dfd7e-ef66-48a8-a7f5-70348d778463');\n",
       "          const dataTable =\n",
       "            await google.colab.kernel.invokeFunction('convertToInteractive',\n",
       "                                                     [key], {});\n",
       "          if (!dataTable) return;\n",
       "\n",
       "          const docLinkHtml = 'Like what you see? Visit the ' +\n",
       "            '<a target=\"_blank\" href=https://colab.research.google.com/notebooks/data_table.ipynb>data table notebook</a>'\n",
       "            + ' to learn more about interactive tables.';\n",
       "          element.innerHTML = '';\n",
       "          dataTable['output_type'] = 'display_data';\n",
       "          await google.colab.output.renderOutput(dataTable, element);\n",
       "          const docLink = document.createElement('div');\n",
       "          docLink.innerHTML = docLinkHtml;\n",
       "          element.appendChild(docLink);\n",
       "        }\n",
       "      </script>\n",
       "    </div>\n",
       "  </div>\n",
       "  "
      ],
      "text/plain": [
       "   RowNumber  CustomerId   Surname  CreditScore Geography  Gender  Age  \\\n",
       "0          1    15634602  Hargrave          619    France  Female   42   \n",
       "1          2    15647311      Hill          608     Spain  Female   41   \n",
       "2          3    15619304      Onio          502    France  Female   42   \n",
       "3          4    15701354      Boni          699    France  Female   39   \n",
       "4          5    15737888  Mitchell          850     Spain  Female   43   \n",
       "\n",
       "   Tenure    Balance  NumOfProducts  HasCrCard  IsActiveMember  \\\n",
       "0       2       0.00              1          1               1   \n",
       "1       1   83807.86              1          0               1   \n",
       "2       8  159660.80              3          1               0   \n",
       "3       1       0.00              2          0               0   \n",
       "4       2  125510.82              1          1               1   \n",
       "\n",
       "   EstimatedSalary  Exited  \n",
       "0        101348.88       1  \n",
       "1        112542.58       0  \n",
       "2        113931.57       1  \n",
       "3         93826.63       0  \n",
       "4         79084.10       0  "
      ]
     },
     "execution_count": 39,
     "metadata": {},
     "output_type": "execute_result"
    }
   ],
   "source": [
    "df = pd.read_csv(\"/content/drive/MyDrive/Churn_Modelling.csv\")\n",
    "df.head()"
   ]
  },
  {
   "cell_type": "code",
   "execution_count": 40,
   "metadata": {
    "id": "u8ogfyR0ymFd"
   },
   "outputs": [],
   "source": [
    "## Divide the dataset into independent and dependent features\n",
    "\n",
    "X = df.iloc[:,3:13] # It will give all rows and all columns excluding columns with index 0-2 and 13\n",
    "Y  = df.iloc[:,13] # Assign Y the value of column at index 13"
   ]
  },
  {
   "cell_type": "code",
   "execution_count": 41,
   "metadata": {
    "colab": {
     "base_uri": "https://localhost:8080/"
    },
    "id": "GUkBmNx_4W80",
    "outputId": "ca9d2705-5afe-4a96-85a5-645e472b9854"
   },
   "outputs": [
    {
     "data": {
      "text/plain": [
       "0       1\n",
       "1       0\n",
       "2       1\n",
       "3       0\n",
       "4       0\n",
       "       ..\n",
       "9995    0\n",
       "9996    0\n",
       "9997    1\n",
       "9998    1\n",
       "9999    0\n",
       "Name: Exited, Length: 10000, dtype: int64"
      ]
     },
     "execution_count": 41,
     "metadata": {},
     "output_type": "execute_result"
    }
   ],
   "source": [
    "Y"
   ]
  },
  {
   "cell_type": "code",
   "execution_count": 42,
   "metadata": {
    "id": "Hl007rHt0PvS"
   },
   "outputs": [],
   "source": [
    "geography = pd.get_dummies(X['Geography'], drop_first=True)\n",
    "gender = pd.get_dummies(X['Gender'], drop_first=True)"
   ]
  },
  {
   "cell_type": "code",
   "execution_count": 43,
   "metadata": {
    "id": "eov3DC7S2MG3"
   },
   "outputs": [],
   "source": [
    "X = X.drop(['Geography', 'Gender'], axis = 1)"
   ]
  },
  {
   "cell_type": "code",
   "execution_count": 44,
   "metadata": {
    "id": "LQspiI9T2ZIP"
   },
   "outputs": [],
   "source": [
    "X = pd.concat([X,geography,gender], axis=1)"
   ]
  },
  {
   "cell_type": "code",
   "execution_count": 45,
   "metadata": {
    "colab": {
     "base_uri": "https://localhost:8080/",
     "height": 206
    },
    "id": "i1lAnBca2lyz",
    "outputId": "cd8aa6a0-8569-4a11-d530-8b59a3f610a1"
   },
   "outputs": [
    {
     "data": {
      "text/html": [
       "\n",
       "  <div id=\"df-eca2475e-40aa-4fbe-be66-2fdc50e01b4b\">\n",
       "    <div class=\"colab-df-container\">\n",
       "      <div>\n",
       "<style scoped>\n",
       "    .dataframe tbody tr th:only-of-type {\n",
       "        vertical-align: middle;\n",
       "    }\n",
       "\n",
       "    .dataframe tbody tr th {\n",
       "        vertical-align: top;\n",
       "    }\n",
       "\n",
       "    .dataframe thead th {\n",
       "        text-align: right;\n",
       "    }\n",
       "</style>\n",
       "<table border=\"1\" class=\"dataframe\">\n",
       "  <thead>\n",
       "    <tr style=\"text-align: right;\">\n",
       "      <th></th>\n",
       "      <th>CreditScore</th>\n",
       "      <th>Age</th>\n",
       "      <th>Tenure</th>\n",
       "      <th>Balance</th>\n",
       "      <th>NumOfProducts</th>\n",
       "      <th>HasCrCard</th>\n",
       "      <th>IsActiveMember</th>\n",
       "      <th>EstimatedSalary</th>\n",
       "      <th>Germany</th>\n",
       "      <th>Spain</th>\n",
       "      <th>Male</th>\n",
       "    </tr>\n",
       "  </thead>\n",
       "  <tbody>\n",
       "    <tr>\n",
       "      <th>0</th>\n",
       "      <td>619</td>\n",
       "      <td>42</td>\n",
       "      <td>2</td>\n",
       "      <td>0.00</td>\n",
       "      <td>1</td>\n",
       "      <td>1</td>\n",
       "      <td>1</td>\n",
       "      <td>101348.88</td>\n",
       "      <td>0</td>\n",
       "      <td>0</td>\n",
       "      <td>0</td>\n",
       "    </tr>\n",
       "    <tr>\n",
       "      <th>1</th>\n",
       "      <td>608</td>\n",
       "      <td>41</td>\n",
       "      <td>1</td>\n",
       "      <td>83807.86</td>\n",
       "      <td>1</td>\n",
       "      <td>0</td>\n",
       "      <td>1</td>\n",
       "      <td>112542.58</td>\n",
       "      <td>0</td>\n",
       "      <td>1</td>\n",
       "      <td>0</td>\n",
       "    </tr>\n",
       "    <tr>\n",
       "      <th>2</th>\n",
       "      <td>502</td>\n",
       "      <td>42</td>\n",
       "      <td>8</td>\n",
       "      <td>159660.80</td>\n",
       "      <td>3</td>\n",
       "      <td>1</td>\n",
       "      <td>0</td>\n",
       "      <td>113931.57</td>\n",
       "      <td>0</td>\n",
       "      <td>0</td>\n",
       "      <td>0</td>\n",
       "    </tr>\n",
       "    <tr>\n",
       "      <th>3</th>\n",
       "      <td>699</td>\n",
       "      <td>39</td>\n",
       "      <td>1</td>\n",
       "      <td>0.00</td>\n",
       "      <td>2</td>\n",
       "      <td>0</td>\n",
       "      <td>0</td>\n",
       "      <td>93826.63</td>\n",
       "      <td>0</td>\n",
       "      <td>0</td>\n",
       "      <td>0</td>\n",
       "    </tr>\n",
       "    <tr>\n",
       "      <th>4</th>\n",
       "      <td>850</td>\n",
       "      <td>43</td>\n",
       "      <td>2</td>\n",
       "      <td>125510.82</td>\n",
       "      <td>1</td>\n",
       "      <td>1</td>\n",
       "      <td>1</td>\n",
       "      <td>79084.10</td>\n",
       "      <td>0</td>\n",
       "      <td>1</td>\n",
       "      <td>0</td>\n",
       "    </tr>\n",
       "  </tbody>\n",
       "</table>\n",
       "</div>\n",
       "      <button class=\"colab-df-convert\" onclick=\"convertToInteractive('df-eca2475e-40aa-4fbe-be66-2fdc50e01b4b')\"\n",
       "              title=\"Convert this dataframe to an interactive table.\"\n",
       "              style=\"display:none;\">\n",
       "        \n",
       "  <svg xmlns=\"http://www.w3.org/2000/svg\" height=\"24px\"viewBox=\"0 0 24 24\"\n",
       "       width=\"24px\">\n",
       "    <path d=\"M0 0h24v24H0V0z\" fill=\"none\"/>\n",
       "    <path d=\"M18.56 5.44l.94 2.06.94-2.06 2.06-.94-2.06-.94-.94-2.06-.94 2.06-2.06.94zm-11 1L8.5 8.5l.94-2.06 2.06-.94-2.06-.94L8.5 2.5l-.94 2.06-2.06.94zm10 10l.94 2.06.94-2.06 2.06-.94-2.06-.94-.94-2.06-.94 2.06-2.06.94z\"/><path d=\"M17.41 7.96l-1.37-1.37c-.4-.4-.92-.59-1.43-.59-.52 0-1.04.2-1.43.59L10.3 9.45l-7.72 7.72c-.78.78-.78 2.05 0 2.83L4 21.41c.39.39.9.59 1.41.59.51 0 1.02-.2 1.41-.59l7.78-7.78 2.81-2.81c.8-.78.8-2.07 0-2.86zM5.41 20L4 18.59l7.72-7.72 1.47 1.35L5.41 20z\"/>\n",
       "  </svg>\n",
       "      </button>\n",
       "      \n",
       "  <style>\n",
       "    .colab-df-container {\n",
       "      display:flex;\n",
       "      flex-wrap:wrap;\n",
       "      gap: 12px;\n",
       "    }\n",
       "\n",
       "    .colab-df-convert {\n",
       "      background-color: #E8F0FE;\n",
       "      border: none;\n",
       "      border-radius: 50%;\n",
       "      cursor: pointer;\n",
       "      display: none;\n",
       "      fill: #1967D2;\n",
       "      height: 32px;\n",
       "      padding: 0 0 0 0;\n",
       "      width: 32px;\n",
       "    }\n",
       "\n",
       "    .colab-df-convert:hover {\n",
       "      background-color: #E2EBFA;\n",
       "      box-shadow: 0px 1px 2px rgba(60, 64, 67, 0.3), 0px 1px 3px 1px rgba(60, 64, 67, 0.15);\n",
       "      fill: #174EA6;\n",
       "    }\n",
       "\n",
       "    [theme=dark] .colab-df-convert {\n",
       "      background-color: #3B4455;\n",
       "      fill: #D2E3FC;\n",
       "    }\n",
       "\n",
       "    [theme=dark] .colab-df-convert:hover {\n",
       "      background-color: #434B5C;\n",
       "      box-shadow: 0px 1px 3px 1px rgba(0, 0, 0, 0.15);\n",
       "      filter: drop-shadow(0px 1px 2px rgba(0, 0, 0, 0.3));\n",
       "      fill: #FFFFFF;\n",
       "    }\n",
       "  </style>\n",
       "\n",
       "      <script>\n",
       "        const buttonEl =\n",
       "          document.querySelector('#df-eca2475e-40aa-4fbe-be66-2fdc50e01b4b button.colab-df-convert');\n",
       "        buttonEl.style.display =\n",
       "          google.colab.kernel.accessAllowed ? 'block' : 'none';\n",
       "\n",
       "        async function convertToInteractive(key) {\n",
       "          const element = document.querySelector('#df-eca2475e-40aa-4fbe-be66-2fdc50e01b4b');\n",
       "          const dataTable =\n",
       "            await google.colab.kernel.invokeFunction('convertToInteractive',\n",
       "                                                     [key], {});\n",
       "          if (!dataTable) return;\n",
       "\n",
       "          const docLinkHtml = 'Like what you see? Visit the ' +\n",
       "            '<a target=\"_blank\" href=https://colab.research.google.com/notebooks/data_table.ipynb>data table notebook</a>'\n",
       "            + ' to learn more about interactive tables.';\n",
       "          element.innerHTML = '';\n",
       "          dataTable['output_type'] = 'display_data';\n",
       "          await google.colab.output.renderOutput(dataTable, element);\n",
       "          const docLink = document.createElement('div');\n",
       "          docLink.innerHTML = docLinkHtml;\n",
       "          element.appendChild(docLink);\n",
       "        }\n",
       "      </script>\n",
       "    </div>\n",
       "  </div>\n",
       "  "
      ],
      "text/plain": [
       "   CreditScore  Age  Tenure    Balance  NumOfProducts  HasCrCard  \\\n",
       "0          619   42       2       0.00              1          1   \n",
       "1          608   41       1   83807.86              1          0   \n",
       "2          502   42       8  159660.80              3          1   \n",
       "3          699   39       1       0.00              2          0   \n",
       "4          850   43       2  125510.82              1          1   \n",
       "\n",
       "   IsActiveMember  EstimatedSalary  Germany  Spain  Male  \n",
       "0               1        101348.88        0      0     0  \n",
       "1               1        112542.58        0      1     0  \n",
       "2               0        113931.57        0      0     0  \n",
       "3               0         93826.63        0      0     0  \n",
       "4               1         79084.10        0      1     0  "
      ]
     },
     "execution_count": 45,
     "metadata": {},
     "output_type": "execute_result"
    }
   ],
   "source": [
    "X.head()"
   ]
  },
  {
   "cell_type": "code",
   "execution_count": 46,
   "metadata": {
    "id": "S2kcg8zN2yOs"
   },
   "outputs": [],
   "source": [
    "from sklearn.model_selection import train_test_split\n",
    "\n",
    "X_train, X_test, Y_train, Y_test = train_test_split(X, Y, test_size=0.2, random_state=0)"
   ]
  },
  {
   "cell_type": "code",
   "execution_count": 47,
   "metadata": {
    "id": "dMaRIKHZ2-yi"
   },
   "outputs": [],
   "source": [
    "from pandas.core.common import standardize_mapping\n",
    "# Feature Scaling\n",
    "\n",
    "from sklearn.preprocessing import StandardScaler\n",
    "sc = StandardScaler()\n",
    "X_train = sc.fit_transform(X_train)\n",
    "X_test = sc.transform(X_test)"
   ]
  },
  {
   "cell_type": "code",
   "execution_count": 48,
   "metadata": {
    "colab": {
     "base_uri": "https://localhost:8080/"
    },
    "id": "jKX1yIPy6L_e",
    "outputId": "f1679a13-5ce2-4379-e12b-130c0e87490e"
   },
   "outputs": [
    {
     "data": {
      "text/plain": [
       "array([[ 0.16958176, -0.46460796,  0.00666099, ..., -0.5698444 ,\n",
       "         1.74309049, -1.09168714],\n",
       "       [-2.30455945,  0.30102557, -1.37744033, ...,  1.75486502,\n",
       "        -0.57369368,  0.91601335],\n",
       "       [-1.19119591, -0.94312892, -1.031415  , ..., -0.5698444 ,\n",
       "        -0.57369368, -1.09168714],\n",
       "       ...,\n",
       "       [ 0.9015152 , -0.36890377,  0.00666099, ..., -0.5698444 ,\n",
       "        -0.57369368,  0.91601335],\n",
       "       [-0.62420521, -0.08179119,  1.39076231, ..., -0.5698444 ,\n",
       "         1.74309049, -1.09168714],\n",
       "       [-0.28401079,  0.87525072, -1.37744033, ...,  1.75486502,\n",
       "        -0.57369368, -1.09168714]])"
      ]
     },
     "execution_count": 48,
     "metadata": {},
     "output_type": "execute_result"
    }
   ],
   "source": [
    "X_train"
   ]
  },
  {
   "cell_type": "code",
   "execution_count": 49,
   "metadata": {
    "colab": {
     "base_uri": "https://localhost:8080/"
    },
    "id": "JOaO4Nf26V37",
    "outputId": "e88a954c-ba2c-437e-ab73-37d9661c59ca"
   },
   "outputs": [
    {
     "data": {
      "text/plain": [
       "array([[-0.55204276, -0.36890377,  1.04473698, ...,  1.75486502,\n",
       "        -0.57369368, -1.09168714],\n",
       "       [-1.31490297,  0.10961719, -1.031415  , ..., -0.5698444 ,\n",
       "        -0.57369368, -1.09168714],\n",
       "       [ 0.57162971,  0.30102557,  1.04473698, ..., -0.5698444 ,\n",
       "         1.74309049, -1.09168714],\n",
       "       ...,\n",
       "       [-0.74791227, -0.27319958, -1.37744033, ..., -0.5698444 ,\n",
       "         1.74309049,  0.91601335],\n",
       "       [-0.00566991, -0.46460796, -0.33936434, ...,  1.75486502,\n",
       "        -0.57369368,  0.91601335],\n",
       "       [-0.79945688, -0.84742473,  1.04473698, ...,  1.75486502,\n",
       "        -0.57369368,  0.91601335]])"
      ]
     },
     "execution_count": 49,
     "metadata": {},
     "output_type": "execute_result"
    }
   ],
   "source": [
    "X_test"
   ]
  },
  {
   "cell_type": "code",
   "execution_count": 50,
   "metadata": {
    "colab": {
     "base_uri": "https://localhost:8080/"
    },
    "id": "GKSx023X6Yc_",
    "outputId": "fd294f76-3d5d-4c0e-9c04-77f751a01c3e"
   },
   "outputs": [
    {
     "data": {
      "text/plain": [
       "(8000, 11)"
      ]
     },
     "execution_count": 50,
     "metadata": {},
     "output_type": "execute_result"
    }
   ],
   "source": [
    "X_train.shape"
   ]
  },
  {
   "cell_type": "code",
   "execution_count": 51,
   "metadata": {
    "id": "jjQH7xRb6c7V"
   },
   "outputs": [],
   "source": [
    "## Creating ANN (Artificial Neural Network)"
   ]
  },
  {
   "cell_type": "code",
   "execution_count": 52,
   "metadata": {
    "id": "Lan3aze67NxU"
   },
   "outputs": [],
   "source": [
    "from tensorflow.keras.models import Sequential\n",
    "from tensorflow.keras.layers import Dense\n",
    "from tensorflow.keras.layers import ReLU,ELU,PReLU,LeakyReLU\n",
    "from tensorflow.keras.layers import Dropout"
   ]
  },
  {
   "cell_type": "code",
   "execution_count": 53,
   "metadata": {
    "id": "7IElYL4N8K-0"
   },
   "outputs": [],
   "source": [
    "## Initialize the ANN\n",
    "classifier = Sequential()"
   ]
  },
  {
   "cell_type": "code",
   "execution_count": 54,
   "metadata": {
    "id": "O6N0ROqI-QgR"
   },
   "outputs": [],
   "source": [
    "## Adding the input layer\n",
    "classifier.add(Dense(units=11,activation='relu'))\n",
    "classifier.add(Dropout(0.2))"
   ]
  },
  {
   "cell_type": "code",
   "execution_count": 55,
   "metadata": {
    "id": "fdoBaRX1-4Em"
   },
   "outputs": [],
   "source": [
    "## Adding the first hidden layer\n",
    "classifier.add(Dense(units=7,activation='relu'))\n",
    "classifier.add(Dropout(0.3))"
   ]
  },
  {
   "cell_type": "code",
   "execution_count": 56,
   "metadata": {
    "id": "BpEQShq5_OuL"
   },
   "outputs": [],
   "source": [
    "## Adding the second hidden layer\n",
    "classifier.add(Dense(units=6,activation='relu'))"
   ]
  },
  {
   "cell_type": "code",
   "execution_count": 57,
   "metadata": {
    "id": "Z69tYjc4_clO"
   },
   "outputs": [],
   "source": [
    "## Adding the output layer \n",
    "classifier.add(Dense(units=1,activation='sigmoid'))"
   ]
  },
  {
   "cell_type": "code",
   "execution_count": 58,
   "metadata": {
    "id": "5iKe8lPu_u4h"
   },
   "outputs": [],
   "source": [
    "classifier.compile(optimizer='adam',loss='binary_crossentropy',metrics=['accuracy'])"
   ]
  },
  {
   "cell_type": "code",
   "execution_count": 59,
   "metadata": {
    "id": "F75Zn67GC2_R"
   },
   "outputs": [],
   "source": [
    "## Early Stopping - Stop training when a monitored metric has stopped improving.\n",
    "early_stopping = tf.keras.callbacks.EarlyStopping(\n",
    "    monitor=\"val_loss\",\n",
    "    min_delta=0.0001,\n",
    "    patience=20,\n",
    "    verbose=1,\n",
    "    mode=\"auto\",\n",
    "    baseline=None,\n",
    "    restore_best_weights=False,\n",
    ")"
   ]
  },
  {
   "cell_type": "code",
   "execution_count": 60,
   "metadata": {
    "colab": {
     "base_uri": "https://localhost:8080/"
    },
    "id": "alpv1U8jAM5i",
    "outputId": "b8c265c7-d6a2-42a3-c0be-600129c43720"
   },
   "outputs": [
    {
     "name": "stdout",
     "output_type": "stream",
     "text": [
      "Epoch 1/1000\n",
      "536/536 [==============================] - 3s 4ms/step - loss: 0.5356 - accuracy: 0.7755 - val_loss: 0.4603 - val_accuracy: 0.7955\n",
      "Epoch 2/1000\n",
      "536/536 [==============================] - 2s 4ms/step - loss: 0.4595 - accuracy: 0.7962 - val_loss: 0.4388 - val_accuracy: 0.7955\n",
      "Epoch 3/1000\n",
      "536/536 [==============================] - 2s 4ms/step - loss: 0.4495 - accuracy: 0.8022 - val_loss: 0.4299 - val_accuracy: 0.8088\n",
      "Epoch 4/1000\n",
      "536/536 [==============================] - 2s 4ms/step - loss: 0.4375 - accuracy: 0.8099 - val_loss: 0.4251 - val_accuracy: 0.8167\n",
      "Epoch 5/1000\n",
      "536/536 [==============================] - 2s 4ms/step - loss: 0.4305 - accuracy: 0.8125 - val_loss: 0.4192 - val_accuracy: 0.8209\n",
      "Epoch 6/1000\n",
      "536/536 [==============================] - 2s 4ms/step - loss: 0.4271 - accuracy: 0.8192 - val_loss: 0.4151 - val_accuracy: 0.8243\n",
      "Epoch 7/1000\n",
      "536/536 [==============================] - 2s 4ms/step - loss: 0.4222 - accuracy: 0.8205 - val_loss: 0.4109 - val_accuracy: 0.8258\n",
      "Epoch 8/1000\n",
      "536/536 [==============================] - 2s 4ms/step - loss: 0.4115 - accuracy: 0.8270 - val_loss: 0.4038 - val_accuracy: 0.8277\n",
      "Epoch 9/1000\n",
      "536/536 [==============================] - 2s 4ms/step - loss: 0.4111 - accuracy: 0.8237 - val_loss: 0.3962 - val_accuracy: 0.8323\n",
      "Epoch 10/1000\n",
      "536/536 [==============================] - 2s 4ms/step - loss: 0.3997 - accuracy: 0.8306 - val_loss: 0.3902 - val_accuracy: 0.8376\n",
      "Epoch 11/1000\n",
      "536/536 [==============================] - 2s 4ms/step - loss: 0.3987 - accuracy: 0.8306 - val_loss: 0.3860 - val_accuracy: 0.8391\n",
      "Epoch 12/1000\n",
      "536/536 [==============================] - 2s 4ms/step - loss: 0.3946 - accuracy: 0.8347 - val_loss: 0.3825 - val_accuracy: 0.8395\n",
      "Epoch 13/1000\n",
      "536/536 [==============================] - 2s 4ms/step - loss: 0.3905 - accuracy: 0.8304 - val_loss: 0.3809 - val_accuracy: 0.8406\n",
      "Epoch 14/1000\n",
      "536/536 [==============================] - 2s 4ms/step - loss: 0.3866 - accuracy: 0.8371 - val_loss: 0.3754 - val_accuracy: 0.8402\n",
      "Epoch 15/1000\n",
      "536/536 [==============================] - 2s 4ms/step - loss: 0.3893 - accuracy: 0.8362 - val_loss: 0.3751 - val_accuracy: 0.8410\n",
      "Epoch 16/1000\n",
      "536/536 [==============================] - 2s 4ms/step - loss: 0.3808 - accuracy: 0.8406 - val_loss: 0.3714 - val_accuracy: 0.8421\n",
      "Epoch 17/1000\n",
      "536/536 [==============================] - 2s 4ms/step - loss: 0.3799 - accuracy: 0.8369 - val_loss: 0.3687 - val_accuracy: 0.8406\n",
      "Epoch 18/1000\n",
      "536/536 [==============================] - 2s 4ms/step - loss: 0.3792 - accuracy: 0.8369 - val_loss: 0.3697 - val_accuracy: 0.8417\n",
      "Epoch 19/1000\n",
      "536/536 [==============================] - 2s 4ms/step - loss: 0.3770 - accuracy: 0.8436 - val_loss: 0.3650 - val_accuracy: 0.8425\n",
      "Epoch 20/1000\n",
      "536/536 [==============================] - 2s 4ms/step - loss: 0.3733 - accuracy: 0.8434 - val_loss: 0.3671 - val_accuracy: 0.8451\n",
      "Epoch 21/1000\n",
      "536/536 [==============================] - 2s 4ms/step - loss: 0.3779 - accuracy: 0.8390 - val_loss: 0.3668 - val_accuracy: 0.8459\n",
      "Epoch 22/1000\n",
      "536/536 [==============================] - 2s 4ms/step - loss: 0.3791 - accuracy: 0.8438 - val_loss: 0.3645 - val_accuracy: 0.8448\n",
      "Epoch 23/1000\n",
      "536/536 [==============================] - 2s 4ms/step - loss: 0.3726 - accuracy: 0.8423 - val_loss: 0.3641 - val_accuracy: 0.8463\n",
      "Epoch 24/1000\n",
      "536/536 [==============================] - 2s 4ms/step - loss: 0.3721 - accuracy: 0.8436 - val_loss: 0.3615 - val_accuracy: 0.8523\n",
      "Epoch 25/1000\n",
      "536/536 [==============================] - 2s 4ms/step - loss: 0.3693 - accuracy: 0.8449 - val_loss: 0.3652 - val_accuracy: 0.8516\n",
      "Epoch 26/1000\n",
      "536/536 [==============================] - 2s 4ms/step - loss: 0.3641 - accuracy: 0.8481 - val_loss: 0.3610 - val_accuracy: 0.8516\n",
      "Epoch 27/1000\n",
      "536/536 [==============================] - 2s 4ms/step - loss: 0.3631 - accuracy: 0.8498 - val_loss: 0.3590 - val_accuracy: 0.8489\n",
      "Epoch 28/1000\n",
      "536/536 [==============================] - 2s 4ms/step - loss: 0.3723 - accuracy: 0.8446 - val_loss: 0.3621 - val_accuracy: 0.8501\n",
      "Epoch 29/1000\n",
      "536/536 [==============================] - 2s 4ms/step - loss: 0.3687 - accuracy: 0.8485 - val_loss: 0.3607 - val_accuracy: 0.8516\n",
      "Epoch 30/1000\n",
      "536/536 [==============================] - 2s 4ms/step - loss: 0.3609 - accuracy: 0.8539 - val_loss: 0.3583 - val_accuracy: 0.8542\n",
      "Epoch 31/1000\n",
      "536/536 [==============================] - 2s 4ms/step - loss: 0.3645 - accuracy: 0.8474 - val_loss: 0.3577 - val_accuracy: 0.8512\n",
      "Epoch 32/1000\n",
      "536/536 [==============================] - 2s 4ms/step - loss: 0.3603 - accuracy: 0.8530 - val_loss: 0.3592 - val_accuracy: 0.8523\n",
      "Epoch 33/1000\n",
      "536/536 [==============================] - 2s 4ms/step - loss: 0.3625 - accuracy: 0.8483 - val_loss: 0.3622 - val_accuracy: 0.8508\n",
      "Epoch 34/1000\n",
      "536/536 [==============================] - 2s 4ms/step - loss: 0.3632 - accuracy: 0.8461 - val_loss: 0.3612 - val_accuracy: 0.8501\n",
      "Epoch 35/1000\n",
      "536/536 [==============================] - 2s 4ms/step - loss: 0.3634 - accuracy: 0.8479 - val_loss: 0.3601 - val_accuracy: 0.8497\n",
      "Epoch 36/1000\n",
      "536/536 [==============================] - 2s 4ms/step - loss: 0.3599 - accuracy: 0.8548 - val_loss: 0.3613 - val_accuracy: 0.8512\n",
      "Epoch 37/1000\n",
      "536/536 [==============================] - 2s 4ms/step - loss: 0.3592 - accuracy: 0.8531 - val_loss: 0.3625 - val_accuracy: 0.8512\n",
      "Epoch 38/1000\n",
      "536/536 [==============================] - 2s 4ms/step - loss: 0.3597 - accuracy: 0.8496 - val_loss: 0.3586 - val_accuracy: 0.8497\n",
      "Epoch 39/1000\n",
      "536/536 [==============================] - 2s 4ms/step - loss: 0.3628 - accuracy: 0.8477 - val_loss: 0.3624 - val_accuracy: 0.8519\n",
      "Epoch 40/1000\n",
      "536/536 [==============================] - 2s 4ms/step - loss: 0.3597 - accuracy: 0.8518 - val_loss: 0.3642 - val_accuracy: 0.8478\n",
      "Epoch 41/1000\n",
      "536/536 [==============================] - 2s 4ms/step - loss: 0.3621 - accuracy: 0.8498 - val_loss: 0.3613 - val_accuracy: 0.8523\n",
      "Epoch 42/1000\n",
      "536/536 [==============================] - 2s 4ms/step - loss: 0.3561 - accuracy: 0.8492 - val_loss: 0.3600 - val_accuracy: 0.8546\n",
      "Epoch 43/1000\n",
      "536/536 [==============================] - 2s 4ms/step - loss: 0.3598 - accuracy: 0.8483 - val_loss: 0.3618 - val_accuracy: 0.8519\n",
      "Epoch 44/1000\n",
      "536/536 [==============================] - 2s 4ms/step - loss: 0.3601 - accuracy: 0.8466 - val_loss: 0.3635 - val_accuracy: 0.8493\n",
      "Epoch 45/1000\n",
      "536/536 [==============================] - 2s 4ms/step - loss: 0.3574 - accuracy: 0.8466 - val_loss: 0.3687 - val_accuracy: 0.8489\n",
      "Epoch 46/1000\n",
      "536/536 [==============================] - 2s 4ms/step - loss: 0.3603 - accuracy: 0.8485 - val_loss: 0.3700 - val_accuracy: 0.8504\n",
      "Epoch 47/1000\n",
      "536/536 [==============================] - 2s 4ms/step - loss: 0.3573 - accuracy: 0.8546 - val_loss: 0.3615 - val_accuracy: 0.8538\n",
      "Epoch 48/1000\n",
      "536/536 [==============================] - 2s 4ms/step - loss: 0.3552 - accuracy: 0.8561 - val_loss: 0.3621 - val_accuracy: 0.8508\n",
      "Epoch 49/1000\n",
      "536/536 [==============================] - 2s 4ms/step - loss: 0.3601 - accuracy: 0.8494 - val_loss: 0.3591 - val_accuracy: 0.8523\n",
      "Epoch 51/1000\n",
      "536/536 [==============================] - 2s 4ms/step - loss: 0.3589 - accuracy: 0.8543 - val_loss: 0.3613 - val_accuracy: 0.8538\n",
      "Epoch 51: early stopping\n"
     ]
    }
   ],
   "source": [
    "model_history=classifier.fit(X_train,Y_train,validation_split=0.33,batch_size=10,epochs=1000,callbacks=early_stopping)"
   ]
  },
  {
   "cell_type": "code",
   "execution_count": 61,
   "metadata": {
    "colab": {
     "base_uri": "https://localhost:8080/"
    },
    "id": "HnP1t0ycELzW",
    "outputId": "c90155d9-2c5a-4d0c-e50f-1b1c6b234ac5"
   },
   "outputs": [
    {
     "data": {
      "text/plain": [
       "dict_keys(['loss', 'accuracy', 'val_loss', 'val_accuracy'])"
      ]
     },
     "execution_count": 61,
     "metadata": {},
     "output_type": "execute_result"
    }
   ],
   "source": [
    "model_history.history.keys()"
   ]
  },
  {
   "cell_type": "code",
   "execution_count": 62,
   "metadata": {
    "colab": {
     "base_uri": "https://localhost:8080/",
     "height": 295
    },
    "id": "aQER5dqQETTA",
    "outputId": "86aa7b5d-1dff-4444-8d2e-f06118f2ee41"
   },
   "outputs": [
    {
     "data": {
      "image/png": "[encoded data removed]",
      "text/plain": [
       "<Figure size 432x288 with 1 Axes>"
      ]
     },
     "metadata": {
      "needs_background": "light"
     },
     "output_type": "display_data"
    }
   ],
   "source": [
    "# summarize history for accuracy\n",
    "plt.plot(model_history.history['accuracy'])\n",
    "plt.plot(model_history.history['val_accuracy'])\n",
    "plt.title('model accuracy')\n",
    "plt.ylabel('accuracy')\n",
    "plt.xlabel('epoch')\n",
    "plt.legend(['train', 'test'], loc='upper left')\n",
    "plt.show()"
   ]
  },
  {
   "cell_type": "code",
   "execution_count": 63,
   "metadata": {
    "colab": {
     "base_uri": "https://localhost:8080/",
     "height": 295
    },
    "id": "wx92WpQ5E_MJ",
    "outputId": "ee2d9e99-11a9-4c86-ece1-ecf3f8cde593"
   },
   "outputs": [
    {
     "data": {
      "image/png": "[encoded data removed]",
      "text/plain": [
       "<Figure size 432x288 with 1 Axes>"
      ]
     },
     "metadata": {
      "needs_background": "light"
     },
     "output_type": "display_data"
    }
   ],
   "source": [
    "# summarize history for loss\n",
    "plt.plot(model_history.history['loss'])\n",
    "plt.plot(model_history.history['val_loss'])\n",
    "plt.title('model loss')\n",
    "plt.ylabel('loss')\n",
    "plt.xlabel('epoch')\n",
    "plt.legend(['train', 'test'], loc='upper left')\n",
    "plt.show()"
   ]
  },
  {
   "cell_type": "code",
   "execution_count": 64,
   "metadata": {
    "id": "VRmBbHnKFDob"
   },
   "outputs": [],
   "source": [
    " ## Making predictions on test data\n",
    " y_pred = classifier.predict(X_test)\n",
    " y_pred = (y_pred>=0.5)"
   ]
  },
  {
   "cell_type": "code",
   "execution_count": 65,
   "metadata": {
    "colab": {
     "base_uri": "https://localhost:8080/"
    },
    "id": "uHpXG4lHHIuk",
    "outputId": "9fa0c950-f13a-4577-c1fe-5ea264afddef"
   },
   "outputs": [
    {
     "data": {
      "text/plain": [
       "array([[1550,   45],\n",
       "       [ 218,  187]])"
      ]
     },
     "execution_count": 65,
     "metadata": {},
     "output_type": "execute_result"
    }
   ],
   "source": [
    "## Creating confusion matrix\n",
    "from sklearn.metrics import confusion_matrix\n",
    "cm = confusion_matrix(Y_test,y_pred)\n",
    "cm"
   ]
  },
  {
   "cell_type": "code",
   "execution_count": 66,
   "metadata": {
    "colab": {
     "base_uri": "https://localhost:8080/"
    },
    "id": "eJmE8LxsHc47",
    "outputId": "1e10c831-98d4-4334-e3e5-93a554f84ec2"
   },
   "outputs": [
    {
     "data": {
      "text/plain": [
       "0.8685"
      ]
     },
     "execution_count": 66,
     "metadata": {},
     "output_type": "execute_result"
    }
   ],
   "source": [
    "from sklearn.metrics import accuracy_score\n",
    "score = accuracy_score(Y_test,y_pred)\n",
    "score"
   ]
  },
  {
   "cell_type": "code",
   "execution_count": 67,
   "metadata": {
    "colab": {
     "base_uri": "https://localhost:8080/"
    },
    "id": "Qk9TYRWoH1W4",
    "outputId": "61945d49-3d7b-40d0-9977-0cbfd745c22a"
   },
   "outputs": [
    {
     "data": {
      "text/plain": [
       "[array([[ 1.23238899e-01,  1.80715844e-02,  6.35764934e-03,\n",
       "          4.93260324e-02,  1.66946352e-01,  3.93814035e-02,\n",
       "         -3.27540934e-02,  4.17699525e-03, -4.99411952e-03,\n",
       "          7.50206262e-02, -2.35298090e-02],\n",
       "        [-7.20001340e-01,  3.59377831e-01,  2.05841418e-02,\n",
       "          2.65176315e-02, -7.77013004e-01, -7.21000135e-01,\n",
       "          3.10907811e-01, -8.43317628e-01, -2.23370045e-01,\n",
       "         -9.35765147e-01,  7.43277818e-02],\n",
       "        [ 2.62285005e-02, -3.19993757e-02,  1.39590586e-02,\n",
       "          1.25052497e-01, -6.24368340e-03,  7.72775384e-03,\n",
       "          1.99350268e-01, -1.77444920e-01,  1.45291621e-02,\n",
       "          4.73160334e-02, -2.90790573e-02],\n",
       "        [-2.52214670e-01, -6.91327825e-02, -8.67396533e-01,\n",
       "         -3.44330788e-01, -7.90679175e-03, -1.16855294e-01,\n",
       "         -2.84768522e-01,  6.41382113e-02,  1.50079414e-01,\n",
       "         -2.97388941e-01,  1.56680673e-01],\n",
       "        [ 1.99334234e-01, -2.27388680e-01, -9.53215957e-01,\n",
       "          4.34645683e-01,  1.48336515e-02,  7.85847306e-02,\n",
       "          7.44704008e-02, -2.16855668e-02,  1.12743330e+00,\n",
       "          1.26029909e-01,  1.05877078e+00],\n",
       "        [-4.92762178e-02, -4.00618427e-02, -1.64106507e-02,\n",
       "          2.29191884e-01,  2.13371530e-01, -5.95089123e-02,\n",
       "          3.40002775e-02,  1.72954217e-01, -2.64408439e-02,\n",
       "         -1.15437426e-01, -4.38079499e-02],\n",
       "        [ 6.85510635e-02, -7.48756647e-01, -4.02203053e-02,\n",
       "          6.42935634e-01, -2.40818098e-01,  5.57318740e-02,\n",
       "          6.22221291e-01,  2.60626704e-01, -1.50660733e-02,\n",
       "         -4.81472947e-02, -6.38215691e-02],\n",
       "        [ 7.07764998e-02,  2.46615559e-02,  7.03545287e-02,\n",
       "         -4.25596582e-03, -5.78590408e-02,  4.63093817e-03,\n",
       "         -4.40436937e-02,  1.09381914e-01,  1.15440533e-01,\n",
       "         -1.54906154e-01,  2.25983951e-02],\n",
       "        [-1.64447650e-01,  9.65783298e-02,  5.26853323e-01,\n",
       "         -5.63584045e-02,  1.26698568e-01, -4.68060039e-02,\n",
       "         -9.25926343e-02,  9.33635235e-02, -6.84362203e-02,\n",
       "         -3.02023321e-01, -8.81502703e-02],\n",
       "        [-4.58666906e-02,  6.12861589e-02,  6.15264997e-02,\n",
       "          1.63978308e-01,  1.91392407e-01, -4.78300825e-02,\n",
       "          1.17296204e-01, -2.10451767e-01,  2.41737999e-02,\n",
       "         -1.05272762e-01,  8.03406760e-02],\n",
       "        [ 3.51233721e-01, -9.81106772e-04, -6.17064610e-02,\n",
       "          2.35265478e-01, -4.85220522e-01,  4.14598323e-02,\n",
       "          9.99626219e-02, -9.19816121e-02,  8.27039417e-04,\n",
       "          2.88583100e-01,  1.66128874e-02]], dtype=float32),\n",
       " array([ 0.3862445 , -0.8335172 , -0.40686658,  0.2357079 , -0.06939321,\n",
       "         0.6282494 , -0.4506182 ,  0.05115123, -1.2331496 ,  0.53774244,\n",
       "        -1.0240644 ], dtype=float32),\n",
       " array([[ 0.11020663, -0.04236343, -0.57032734, -0.3344985 ,  0.3670277 ,\n",
       "          0.45426962,  0.31768095],\n",
       "        [-0.557061  , -0.376619  ,  0.74330604,  0.5504211 , -0.44615474,\n",
       "         -0.5033811 , -0.56400007],\n",
       "        [-0.7965319 , -0.74686533,  0.22997263,  0.1926494 , -0.7756859 ,\n",
       "         -0.81923866, -0.60348314],\n",
       "        [ 0.15502429,  0.4976371 , -0.21339011, -0.22210224,  0.15487343,\n",
       "          0.16141923,  0.07666801],\n",
       "        [-0.00223285, -0.19209072, -0.35144266, -0.35497773,  0.11508294,\n",
       "         -0.04102489, -0.08160136],\n",
       "        [ 0.06119727,  0.0283572 , -0.84659654, -0.56044555,  0.10800713,\n",
       "          0.6849209 ,  0.21475318],\n",
       "        [-0.03664878, -0.10081034, -0.4667909 , -0.3085355 ,  0.22714415,\n",
       "          0.5789567 ,  0.3910156 ],\n",
       "        [-0.14025784,  0.35393682, -0.9343165 , -0.6917204 , -0.22729719,\n",
       "          0.01693091,  0.39079982],\n",
       "        [-0.63158447, -0.9210606 ,  0.6391667 ,  1.0175966 , -0.84139633,\n",
       "         -1.2647995 , -0.7620576 ],\n",
       "        [ 0.08401786,  0.71867025, -0.4881095 , -0.38627833,  0.17456822,\n",
       "         -0.07092816,  0.12916782],\n",
       "        [-0.5040886 , -0.87522256,  1.1687794 ,  0.46633437, -0.7122174 ,\n",
       "         -1.0031667 , -0.67303663]], dtype=float32),\n",
       " array([0.23935454, 0.36672598, 0.43876135, 0.29782942, 0.34213567,\n",
       "        0.35882974, 0.31439885], dtype=float32),\n",
       " array([[-0.71180224,  0.5842683 ,  0.61300105,  0.4725596 ,  0.00456732,\n",
       "          0.01136455],\n",
       "        [-0.34195113,  0.27252972,  0.5439962 , -0.86702377, -0.18894091,\n",
       "          0.3543491 ],\n",
       "        [ 1.1634154 , -0.6054239 , -0.33969674, -0.6755141 , -0.34878227,\n",
       "         -0.28239518],\n",
       "        [-0.5243653 , -0.89952576, -0.24629755, -0.8052974 ,  0.9487223 ,\n",
       "         -0.40149176],\n",
       "        [-0.9939901 ,  0.1913688 , -0.44701508,  0.55566394, -0.34008765,\n",
       "          0.6583794 ],\n",
       "        [-0.58492893,  0.3211796 ,  1.0038534 ,  0.10627124, -0.03497574,\n",
       "         -0.9463732 ],\n",
       "        [-0.3233441 ,  0.2586662 , -0.5935352 ,  0.49308625, -0.14610168,\n",
       "          0.6069166 ]], dtype=float32),\n",
       " array([-0.1778096 ,  0.62424237,  0.16520731,  0.05422714, -0.07878985,\n",
       "         0.01849762], dtype=float32),\n",
       " array([[ 0.89612633],\n",
       "        [-0.32889366],\n",
       "        [-0.4550535 ],\n",
       "        [-0.6608989 ],\n",
       "        [ 1.4669826 ],\n",
       "        [-0.6857408 ]], dtype=float32),\n",
       " array([-0.2069069], dtype=float32)]"
      ]
     },
     "execution_count": 67,
     "metadata": {},
     "output_type": "execute_result"
    }
   ],
   "source": [
    "## Get the Weights\n",
    "classifier.get_weights()"
   ]
  },
  {
   "cell_type": "code",
   "execution_count": 67,
   "metadata": {
    "id": "TOZyEpwrIEFa"
   },
   "outputs": [],
   "source": []
  }
 ],
 "metadata": {
  "accelerator": "GPU",
  "colab": {
   "name": "First ANN project.ipynb",
   "provenance": []
  },
  "gpuClass": "standard",
  "kernelspec": {
   "display_name": "Python 3 (ipykernel)",
   "language": "python",
   "name": "python3"
  },
  "language_info": {
   "codemirror_mode": {
    "name": "ipython",
    "version": 3
   },
   "file_extension": ".py",
   "mimetype": "text/x-python",
   "name": "python",
   "nbconvert_exporter": "python",
   "pygments_lexer": "ipython3",
   "version": "3.9.7"
  }
 },
 "nbformat": 4,
 "nbformat_minor": 1
}
